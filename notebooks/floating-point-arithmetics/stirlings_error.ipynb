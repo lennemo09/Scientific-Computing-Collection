{
 "cells": [
  {
   "cell_type": "code",
   "execution_count": 4,
   "metadata": {},
   "outputs": [],
   "source": [
    "## Set up\n",
    "%matplotlib inline\n",
    "import math\n",
    "import matplotlib.pyplot as plt\n",
    "from IPython.display import set_matplotlib_formats\n",
    "import sys\n",
    "\n",
    "set_matplotlib_formats('retina')"
   ]
  },
  {
   "cell_type": "markdown",
   "metadata": {},
   "source": [
    "### Calculates Stirling's approximation computational errors"
   ]
  },
  {
   "cell_type": "code",
   "execution_count": 8,
   "metadata": {},
   "outputs": [],
   "source": [
    "def stirlings_errors():\n",
    "    abs_err_results = []\n",
    "    rel_err_results = []\n",
    "    for n in range(1,16):\n",
    "        n_fact = math.factorial(n)\n",
    "        stirlings = math.sqrt(2*math.pi*n)*((n/math.e)**n)\n",
    "        abs_err = abs(n_fact - stirlings)\n",
    "        rel_err = abs_err/n_fact\n",
    "\n",
    "        abs_err_results.append(abs_err)\n",
    "        rel_err_results.append(rel_err)\n",
    "        print(\"n = {}: Real value = {}; Approx. value = {}\\nAbsolute error = {}; Relative error = {}\\n\".format(n, n_fact, stirlings, abs_err, rel_err))\n",
    "    \n",
    "    plt.plot(range(1,16),abs_err_results, marker='.', label='Absolute Error')\n",
    "    plt.axis([0,16,0,max(abs_err_results)])\n",
    "    plt.plot(range(1,16),rel_err_results, marker='o', label='Relative Error')\n",
    "    plt.xlabel('n')\n",
    "    plt.ylabel('Error Value')"
   ]
  },
  {
   "cell_type": "markdown",
   "metadata": {},
   "source": [
    "### Absolute error increases while relative error decreases."
   ]
  },
  {
   "cell_type": "code",
   "execution_count": 9,
   "metadata": {},
   "outputs": [
    {
     "name": "stdout",
     "output_type": "stream",
     "text": [
      "n = 1: Real value = 1; Approx. value = 0.9221370088957891\n",
      "Absolute error = 0.07786299110421091; Relative error = 0.07786299110421091\n",
      "\n",
      "n = 2: Real value = 2; Approx. value = 1.9190043514889832\n",
      "Absolute error = 0.08099564851101682; Relative error = 0.04049782425550841\n",
      "\n",
      "n = 3: Real value = 6; Approx. value = 5.836209591345864\n",
      "Absolute error = 0.16379040865413597; Relative error = 0.027298401442355995\n",
      "\n",
      "n = 4: Real value = 24; Approx. value = 23.506175132893294\n",
      "Absolute error = 0.4938248671067065; Relative error = 0.020576036129446102\n",
      "\n",
      "n = 5: Real value = 120; Approx. value = 118.0191679575901\n",
      "Absolute error = 1.9808320424099009; Relative error = 0.016506933686749173\n",
      "\n",
      "n = 6: Real value = 720; Approx. value = 710.078184642185\n",
      "Absolute error = 9.921815357815035; Relative error = 0.013780299108076438\n",
      "\n",
      "n = 7: Real value = 5040; Approx. value = 4980.395831612462\n",
      "Absolute error = 59.604168387538266; Relative error = 0.011826223886416323\n",
      "\n",
      "n = 8: Real value = 40320; Approx. value = 39902.39545265671\n",
      "Absolute error = 417.6045473432896; Relative error = 0.010357255638474444\n",
      "\n",
      "n = 9: Real value = 362880; Approx. value = 359536.87284194835\n",
      "Absolute error = 3343.1271580516477; Relative error = 0.009212762230080598\n",
      "\n",
      "n = 10: Real value = 3628800; Approx. value = 3598695.6187410373\n",
      "Absolute error = 30104.381258962676; Relative error = 0.008295960443938127\n",
      "\n",
      "n = 11: Real value = 39916800; Approx. value = 39615625.05057755\n",
      "Absolute error = 301174.9494224489; Relative error = 0.007545067475911117\n",
      "\n",
      "n = 12: Real value = 479001600; Approx. value = 475687486.47277606\n",
      "Absolute error = 3314113.5272239447; Relative error = 0.006918794273806068\n",
      "\n",
      "n = 13: Real value = 6227020800; Approx. value = 6187239475.19272\n",
      "Absolute error = 39781324.80727959; Relative error = 0.006388500389669421\n",
      "\n",
      "n = 14: Real value = 87178291200; Approx. value = 86661001740.59883\n",
      "Absolute error = 517289459.4011688; Relative error = 0.005933695789177946\n",
      "\n",
      "n = 15: Real value = 1307674368000; Approx. value = 1300430722199.468\n",
      "Absolute error = 7243645800.531982; Relative error = 0.00553933454519771\n",
      "\n"
     ]
    },
    {
     "data": {
      "image/png": "[encoded data removed]",
      "text/plain": [
       "<Figure size 432x288 with 1 Axes>"
      ]
     },
     "metadata": {
      "image/png": {
       "height": 272,
       "width": 382
      },
      "needs_background": "light"
     },
     "output_type": "display_data"
    }
   ],
   "source": [
    "stirlings_errors()"
   ]
  },
  {
   "cell_type": "code",
   "execution_count": null,
   "metadata": {},
   "outputs": [],
   "source": []
  }
 ],
 "metadata": {
  "kernelspec": {
   "display_name": "Python 3",
   "language": "python",
   "name": "python3"
  },
  "language_info": {
   "codemirror_mode": {
    "name": "ipython",
    "version": 3
   },
   "file_extension": ".py",
   "mimetype": "text/x-python",
   "name": "python",
   "nbconvert_exporter": "python",
   "pygments_lexer": "ipython3",
   "version": "3.8.3"
  }
 },
 "nbformat": 4,
 "nbformat_minor": 4
}
