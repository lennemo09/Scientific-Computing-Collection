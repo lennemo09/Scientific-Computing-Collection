{
 "cells": [
  {
   "cell_type": "code",
   "execution_count": 1,
   "metadata": {},
   "outputs": [],
   "source": [
    "## Set up\n",
    "%matplotlib inline\n",
    "import math\n",
    "import matplotlib.pyplot as plt\n",
    "from IPython.display import set_matplotlib_formats\n",
    "import sys\n",
    "\n",
    "set_matplotlib_formats('retina')"
   ]
  },
  {
   "cell_type": "markdown",
   "metadata": {},
   "source": [
    "### Returns the binary representation of a real number"
   ]
  },
  {
   "cell_type": "code",
   "execution_count": 2,
   "metadata": {},
   "outputs": [],
   "source": [
    "def real_to_bin(real_num):\n",
    "    if real_num < 0:\n",
    "        is_negative = True\n",
    "        real_num = real_num*-1\n",
    "    else:\n",
    "        is_negative = False\n",
    "    \n",
    "    bin_int = []\n",
    "    bin_dec = []\n",
    "    num_int = real_num // 1 # To be more mathy we can write it as x - (x mod 1)\n",
    "    num_dec = real_num % 1  # x mod 1\n",
    "    \n",
    "    # Find the binary representation of the integer part.\n",
    "    # Each digit is stored in array in reversed order.\n",
    "    quot = num_int // 2\n",
    "    rem = num_int % 2\n",
    "    quot_zero = False\n",
    "    \n",
    "    while not quot_zero:\n",
    "        if quot == 0:\n",
    "            quot_zero = True\n",
    "        bin_int.append(int(rem))\n",
    "        rem = quot % 2\n",
    "        quot = quot // 2\n",
    "    \n",
    "    bin_int.reverse()\n",
    "    \n",
    "    # Stops at 10 decimal digits or when there is no decimal places left to convert.\n",
    "    max_digits_count = 10\n",
    "    digits_count = 0\n",
    "    current_dec = 1\n",
    "    current_int = 1\n",
    "    while (digits_count < max_digits_count) and (current_dec * current_int != 0):\n",
    "        double = num_dec*2\n",
    "        bin_dec.append(int(double // 1))\n",
    "        digits_count += 1\n",
    "        num_dec = double % 1\n",
    "    \n",
    "    # Print the binary output\n",
    "    if is_negative:\n",
    "        print(\"-\",end=\"\")\n",
    "    for digit in bin_int:\n",
    "        print(digit,end=\"\")\n",
    "    print('.',end=\"\")\n",
    "    for digit in bin_dec:\n",
    "        print(digit,end=\"\")\n",
    "    print(\"\")"
   ]
  },
  {
   "cell_type": "code",
   "execution_count": 3,
   "metadata": {},
   "outputs": [
    {
     "name": "stdout",
     "output_type": "stream",
     "text": [
      "10.1011011111\n",
      "-10.1011011111\n"
     ]
    }
   ],
   "source": [
    "real_to_bin(2.71828) \n",
    "real_to_bin(-2.71828)"
   ]
  },
  {
   "cell_type": "code",
   "execution_count": null,
   "metadata": {},
   "outputs": [],
   "source": []
  }
 ],
 "metadata": {
  "kernelspec": {
   "display_name": "Python 3",
   "language": "python",
   "name": "python3"
  },
  "language_info": {
   "codemirror_mode": {
    "name": "ipython",
    "version": 3
   },
   "file_extension": ".py",
   "mimetype": "text/x-python",
   "name": "python",
   "nbconvert_exporter": "python",
   "pygments_lexer": "ipython3",
   "version": "3.8.3"
  }
 },
 "nbformat": 4,
 "nbformat_minor": 4
}
