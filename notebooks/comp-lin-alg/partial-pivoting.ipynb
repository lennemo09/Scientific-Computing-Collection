{
 "cells": [
  {
   "cell_type": "code",
   "execution_count": 8,
   "metadata": {},
   "outputs": [],
   "source": [
    "# Set-up\n",
    "import numpy as np\n",
    "import scipy.linalg as sp"
   ]
  },
  {
   "cell_type": "code",
   "execution_count": 9,
   "metadata": {},
   "outputs": [],
   "source": [
    "%%capture\n",
    "%run forward-elimination.ipynb\n",
    "%run backward-substitution.ipynb\n",
    "%run LU-factorization.ipynb"
   ]
  },
  {
   "cell_type": "markdown",
   "metadata": {},
   "source": [
    "### Partial pivoting with LU factorization\n",
    "#### Row swapper"
   ]
  },
  {
   "cell_type": "code",
   "execution_count": 21,
   "metadata": {},
   "outputs": [],
   "source": [
    "def row_swap(A,P):\n",
    "    if len(P) < 1:\n",
    "        # Check if non-empty\n",
    "        print(1)\n",
    "        return None\n",
    "    if len(P) != len(P[0]):\n",
    "        # Check if square\n",
    "        print(2)\n",
    "        return None\n",
    "    if len(P) != len(A):\n",
    "        print(3)\n",
    "        return None\n",
    "    # Check if only 1s and 0s\n",
    "    for row in P:\n",
    "        for num in row:\n",
    "            if num != 1 and num != 0:\n",
    "                return None\n",
    "    # Check if not permutated I\n",
    "    for j in range(len(P)):\n",
    "        found_one = False\n",
    "        for i in range(len(P[0])):\n",
    "            #if P[i,j] == 1 && \n",
    "            pass\n",
    "            \n",
    "    swaps = []\n",
    "    for i in range(len(P)):\n",
    "        for j in range(len(P)):\n",
    "            if P[j,i] == 1:\n",
    "                swaps.append((i,j))\n",
    "    A_swapped = np.copy(A)\n",
    "    for swap in swaps:\n",
    "        A_swapped[swap[1]] = np.copy(A[swap[0]])\n",
    "    return A_swapped"
   ]
  },
  {
   "cell_type": "code",
   "execution_count": 23,
   "metadata": {},
   "outputs": [
    {
     "name": "stdout",
     "output_type": "stream",
     "text": [
      "[[0 1 0]\n",
      " [0 0 1]\n",
      " [1 0 0]]\n",
      "[[1 2 2]\n",
      " [4 4 2]\n",
      " [4 6 4]]\n",
      "################\n",
      "[[4 4 2]\n",
      " [4 6 4]\n",
      " [1 2 2]]\n"
     ]
    }
   ],
   "source": [
    "P = np.array([[0,1,0],[0,0,1],[1,0,0]])\n",
    "print(P)\n",
    "\n",
    "A1 = np.array([[1,2,2],[4,4,2],[4,6,4]])\n",
    "print(A1)\n",
    "print(\"################\")\n",
    "A1 = row_swap(A1,P)\n",
    "print(A1)"
   ]
  },
  {
   "cell_type": "markdown",
   "metadata": {},
   "source": [
    "#### Pivoting forward elimination"
   ]
  },
  {
   "cell_type": "code",
   "execution_count": 24,
   "metadata": {},
   "outputs": [],
   "source": [
    "def forward_elim_pivot(A,b):\n",
    "    A_copy = np.copy(A)\n",
    "    b_copy = np.copy(b)\n",
    "    M = np.identity(len(A))\n",
    "    Ms = [] # This stores the elimination matrices in order [M_1, M_2, M_3], useful for L.\n",
    "    Ps = []\n",
    "    for k in range(len(A[0])):\n",
    "        # This parts do the partial pivoting\n",
    "        P = np.identity(len(A))\n",
    "        max_idx = k\n",
    "        for j in range(k+1,len(A)):\n",
    "            if A_copy[k,j] > A_copy[k,max_idx]:\n",
    "                max_idx = j\n",
    "        if max_idx != k:\n",
    "            P[[k, max_idx]] = P[[max_idx, k]]\n",
    "            A_copy = row_swap(A_copy, P)\n",
    "        Ps.append(P)\n",
    "        # This part creates the elimination matrix      \n",
    "        M_k = np.copy(M)\n",
    "        pivot = A_copy[k,k]\n",
    "        for i in range(k+1, len(A)):\n",
    "            M_k[i, k] = -(A_copy[i,k]/pivot)\n",
    "        Ms.append(M_k)\n",
    "        A_copy = M_k @ A_copy\n",
    "        b_copy = M_k @ b_copy\n",
    "    return A_copy, b_copy, Ms, Ps"
   ]
  },
  {
   "cell_type": "markdown",
   "metadata": {},
   "source": [
    "#### Pivoting LU factorization"
   ]
  },
  {
   "cell_type": "code",
   "execution_count": 25,
   "metadata": {},
   "outputs": [],
   "source": [
    "def LU_pivot(A,b):\n",
    "    U, z, Ms, Ps = forward_elim_pivot(A,b)\n",
    "    L = np.identity(len(A))\n",
    "    P = Ps[-1]\n",
    "    for i in range(len(Ps)-1,-1,-1):\n",
    "        P = P @ Ps[i]\n",
    "    for i in range(len(Ms)):\n",
    "        L = L @ Ps[i] @ np.linalg.inv(Ms[i])\n",
    "    L = row_swap(L,P)\n",
    "    \n",
    "    return L, U, b, P"
   ]
  },
  {
   "cell_type": "code",
   "execution_count": 26,
   "metadata": {},
   "outputs": [
    {
     "name": "stdout",
     "output_type": "stream",
     "text": [
      "############### ROW SWAPS ###############\n",
      "[[0. 1. 0.]\n",
      " [1. 0. 0.]\n",
      " [0. 0. 1.]]\n",
      "[[1. 0. 0.]\n",
      " [0. 0. 1.]\n",
      " [0. 1. 0.]]\n",
      "[[1. 0. 0.]\n",
      " [0. 1. 0.]\n",
      " [0. 0. 1.]]\n",
      "#########################################\n",
      "\n",
      "########### PARTIAL PIVOTING ############\n",
      "P: \n",
      " [[0. 1. 0.]\n",
      " [0. 0. 1.]\n",
      " [1. 0. 0.]]\n",
      "L: \n",
      " [[1.   0.   0.  ]\n",
      " [1.   1.   0.  ]\n",
      " [0.25 0.5  1.  ]]\n",
      "U: \n",
      " [[4.  4.  2. ]\n",
      " [0.  2.  2. ]\n",
      " [0.  0.  0.5]]\n",
      "#########################################\n",
      "\n"
     ]
    }
   ],
   "source": [
    "A1 = np.array([[1,2,2],[4,4,2],[4,6,4]])\n",
    "b1 = np.array([[3],[6],[10]])\n",
    "\n",
    "print(\"############### ROW SWAPS ###############\")\n",
    "A1, b1, Ms, Ps = forward_elim_pivot(A1,b1)\n",
    "for P in Ps:\n",
    "    print(P)\n",
    "print(\"#########################################\\n\")\n",
    "\n",
    "A2 = np.array([[1,2,2],[4,4,2],[4,6,4]])\n",
    "b2 = np.array([[3],[6],[10]])\n",
    "print(\"########### PARTIAL PIVOTING ############\")\n",
    "L, U, b, P = LU_pivot(A2,b2)\n",
    "print(\"P: \\n\",P)\n",
    "print(\"L: \\n\",L)\n",
    "print(\"U: \\n\",U)\n",
    "print(\"#########################################\\n\")"
   ]
  },
  {
   "cell_type": "code",
   "execution_count": null,
   "metadata": {},
   "outputs": [],
   "source": []
  }
 ],
 "metadata": {
  "kernelspec": {
   "display_name": "Python 3",
   "language": "python",
   "name": "python3"
  },
  "language_info": {
   "codemirror_mode": {
    "name": "ipython",
    "version": 3
   },
   "file_extension": ".py",
   "mimetype": "text/x-python",
   "name": "python",
   "nbconvert_exporter": "python",
   "pygments_lexer": "ipython3",
   "version": "3.8.3"
  }
 },
 "nbformat": 4,
 "nbformat_minor": 4
}
