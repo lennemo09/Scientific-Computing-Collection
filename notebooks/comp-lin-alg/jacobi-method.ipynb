{
 "cells": [
  {
   "cell_type": "code",
   "execution_count": 17,
   "metadata": {},
   "outputs": [],
   "source": [
    "# Set-up\n",
    "import matplotlib.pyplot as plt\n",
    "import numpy as np\n",
    "import random\n",
    "from scipy import linalg as lin\n",
    "from statistics import mean \n",
    "import timeit"
   ]
  },
  {
   "cell_type": "code",
   "execution_count": 18,
   "metadata": {},
   "outputs": [],
   "source": [
    "%%capture\n",
    "%run forward-elimination.ipynb\n",
    "%run backward-substitution.ipynb\n",
    "%run LU-factorization.ipynb"
   ]
  },
  {
   "cell_type": "markdown",
   "metadata": {},
   "source": [
    "### Jacobi method"
   ]
  },
  {
   "cell_type": "code",
   "execution_count": 20,
   "metadata": {},
   "outputs": [],
   "source": [
    "def jacobi(A,b,n):\n",
    "    lu = lin.lu_solve(lin.lu_factor(A),b)\n",
    "    \n",
    "    # Hard-coded absolute error target\n",
    "    threshold = 1e-12\n",
    "    \n",
    "    x = np.ones(len(A[0]))\n",
    "    last_x = np.ones(len(A[0]))\n",
    "    y = np.ones(len(A[0]))\n",
    "    \n",
    "    i = 0\n",
    "    not_in_threshold = True\n",
    "    while not_in_threshold:\n",
    "        #print(\"\\n{}. \".format(i), x)\n",
    "        i += 1\n",
    "        errs = []\n",
    "        for u in range(len(x)):\n",
    "            errs.append(abs(x[u] - lu[u]))\n",
    "        #print(\"Err: \", errs)\n",
    "        \n",
    "        # Check if all current solution is in threshold\n",
    "        all_in_threshold = True\n",
    "        for err in errs:\n",
    "            if err > 1e5 or i > 400:\n",
    "                return None\n",
    "            if err > threshold:\n",
    "                all_in_threshold = False\n",
    "        if all_in_threshold:\n",
    "            return x\n",
    "        \n",
    "        for j in range(len(A[0])):\n",
    "            y[j] = b[j]\n",
    "            for k in range(0,len(A[0])):\n",
    "                if k == j:\n",
    "                    pass\n",
    "                else:\n",
    "                    y[j] = y[j] - A[j,k]*x[k]\n",
    "            y[j] = y[j]/A[j,j]\n",
    "        x = np.copy(y)\n",
    "    return x"
   ]
  },
  {
   "cell_type": "code",
   "execution_count": 21,
   "metadata": {},
   "outputs": [
    {
     "name": "stdout",
     "output_type": "stream",
     "text": [
      "\n",
      "JACOBI: \n",
      "[ 0.47924528 -3.72075472 -1.25660377  3.11320755]\n",
      "\n",
      "LU: \n",
      "[ 0.47924528 -3.72075472 -1.25660377  3.11320755]\n"
     ]
    }
   ],
   "source": [
    "A = np.array([[10,-1,2,0],[-1,-4,-1,3],[2,-1,10,-1],[0,3,-1,8]])\n",
    "b = np.array([6,25,-11,15])\n",
    "\n",
    "lu = lin.lu_solve(lin.lu_factor(A),b)\n",
    "\n",
    "print(\"\\nJACOBI: \")\n",
    "jac = jacobi(A,b,25)\n",
    "print(jac)\n",
    "print(\"\\nLU: \")\n",
    "print(lu)"
   ]
  },
  {
   "cell_type": "code",
   "execution_count": null,
   "metadata": {},
   "outputs": [],
   "source": []
  }
 ],
 "metadata": {
  "kernelspec": {
   "display_name": "Python 3",
   "language": "python",
   "name": "python3"
  },
  "language_info": {
   "codemirror_mode": {
    "name": "ipython",
    "version": 3
   },
   "file_extension": ".py",
   "mimetype": "text/x-python",
   "name": "python",
   "nbconvert_exporter": "python",
   "pygments_lexer": "ipython3",
   "version": "3.8.3"
  }
 },
 "nbformat": 4,
 "nbformat_minor": 4
}
