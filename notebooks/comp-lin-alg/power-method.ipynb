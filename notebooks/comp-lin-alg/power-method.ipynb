{
 "cells": [
  {
   "cell_type": "code",
   "execution_count": 1,
   "metadata": {},
   "outputs": [],
   "source": [
    "# Set-up\n",
    "import matplotlib.pyplot as plt\n",
    "import numpy as np\n",
    "import random\n",
    "from scipy import linalg as lin\n",
    "from statistics import mean \n",
    "import timeit"
   ]
  },
  {
   "cell_type": "markdown",
   "metadata": {},
   "source": [
    "### Power method"
   ]
  },
  {
   "cell_type": "code",
   "execution_count": 2,
   "metadata": {},
   "outputs": [],
   "source": [
    "def power(A):\n",
    "    x = np.ones(len(A[0]))\n",
    "    lambda_max = 0\n",
    "    for i in range(20):\n",
    "        x = A@x\n",
    "        # Normalize\n",
    "        lambda_max = np.amax(x)\n",
    "        x = x/lambda_max\n",
    "        print(lambda_max,x)\n",
    "    \n",
    "    return lambda_max, x"
   ]
  },
  {
   "cell_type": "code",
   "execution_count": 3,
   "metadata": {},
   "outputs": [
    {
     "name": "stdout",
     "output_type": "stream",
     "text": [
      "11.0 [ 1.         -0.27272727  0.90909091  0.90909091]\n",
      "12.090909090909092 [1.         0.15789474 0.86466165 0.45864662]\n",
      "11.571428571428571 [ 1.         -0.09681611  0.86679662  0.28330084]\n",
      "11.830409356725147 [ 1.         -0.05322129  0.88597792  0.09375515]\n",
      "11.8251771296754 [ 1.         -0.11770034  0.91493305 -0.02499756]\n",
      "11.94756643025346 [ 1.         -0.12714927  0.94513208 -0.12287143]\n",
      "12.017413443024067 [ 1.         -0.15021113  0.97369884 -0.19218373]\n",
      "12.097608815337168 [ 1.         -0.16113974  0.99849346 -0.24482541]\n",
      "12.390899744713591 [ 0.98121419 -0.16854391  1.         -0.27766474]\n",
      "12.408637035795554 [ 0.96551183 -0.17246316  1.         -0.30035125]\n",
      "12.403838066231874 [ 0.95354207 -0.17548705  1.         -0.3160473 ]\n",
      "12.398618487490634 [ 0.94453328 -0.17741781  1.         -0.32703962]\n",
      "12.393523990409955 [ 0.93780837 -0.17880152  1.         -0.33473695]\n",
      "12.389155216823083 [ 0.9328227  -0.1797389   1.         -0.34016041]\n",
      "12.385544721599537 [ 0.92914492 -0.18039968  1.         -0.34398972]\n",
      "12.38267923440326 [ 0.92644319 -0.18085871  1.         -0.34670338]\n",
      "12.380448469807728 [ 0.92446495 -0.18118233  1.         -0.3486306 ]\n",
      "12.378742821349475 [ 0.92302037 -0.18140997  1.         -0.35000257]\n",
      "12.37745328431608 [ 0.92196782 -0.18157113  1.         -0.35098096]\n",
      "12.376487742410811 [ 0.92120233 -0.18168532  1.         -0.35167983]\n"
     ]
    },
    {
     "data": {
      "text/plain": [
       "(12.376487742410811,\n",
       " array([ 0.92120233, -0.18168532,  1.        , -0.35167983]))"
      ]
     },
     "execution_count": 3,
     "metadata": {},
     "output_type": "execute_result"
    }
   ],
   "source": [
    "A = np.array([[10,-1,2,0],[-1,-4,-1,3],[2,-1,10,-1],[0,3,-1,8]])\n",
    "power(A)"
   ]
  },
  {
   "cell_type": "code",
   "execution_count": null,
   "metadata": {},
   "outputs": [],
   "source": []
  }
 ],
 "metadata": {
  "kernelspec": {
   "display_name": "Python 3",
   "language": "python",
   "name": "python3"
  },
  "language_info": {
   "codemirror_mode": {
    "name": "ipython",
    "version": 3
   },
   "file_extension": ".py",
   "mimetype": "text/x-python",
   "name": "python",
   "nbconvert_exporter": "python",
   "pygments_lexer": "ipython3",
   "version": "3.8.3"
  }
 },
 "nbformat": 4,
 "nbformat_minor": 4
}
