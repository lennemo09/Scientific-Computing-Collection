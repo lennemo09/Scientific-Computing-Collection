{
 "cells": [
  {
   "cell_type": "code",
   "execution_count": 3,
   "metadata": {},
   "outputs": [],
   "source": [
    "# Set-up\n",
    "import numpy as np\n",
    "import scipy.linalg as sp"
   ]
  },
  {
   "cell_type": "code",
   "execution_count": 4,
   "metadata": {},
   "outputs": [],
   "source": [
    "def back_sub(U,z):\n",
    "    \"\"\"\n",
    "    Assuming U is a upper-triangular matrix in the form of a numpy array,\n",
    "    and z is a 1-D numpy array of the resulting dependants from forward elimination.\n",
    "    \"\"\"\n",
    "    solutions = []\n",
    "    for j in range(len(U)-1,-1,-1):\n",
    "        if U[j,j] == 0:\n",
    "            break\n",
    "        x_j = z[j]/U[j,j]\n",
    "        solutions.append(x_j)\n",
    "        for i in range(0,j):\n",
    "            z[i] = z[i] - U[i,j]*x_j\n",
    "    solutions.reverse()\n",
    "    return solutions"
   ]
  },
  {
   "cell_type": "code",
   "execution_count": 5,
   "metadata": {},
   "outputs": [
    {
     "name": "stdout",
     "output_type": "stream",
     "text": [
      "########### BACK-SUBSTITUTION ###########\n",
      "Testing Back Substitution:  [ 0.625    -0.0625   -0.109375 -0.71875 ]\n",
      "Correct result:  [-0.71875  -0.109375 -0.0625    0.625   ]\n",
      "#########################################\n",
      "\n"
     ]
    }
   ],
   "source": [
    "U1 = np.array([[1,2,3,5],[0,4,5,6],[0,0,6,7],[0,0,0,8]], np.float)\n",
    "z1 = np.array([2,3,4,5], np.float)\n",
    "solutions = np.flip(back_sub(U1,z1))\n",
    "\n",
    "\n",
    "U1n = np.array([[1,2,3,5],[0,4,5,6],[0,0,6,7],[0,0,0,8]])\n",
    "z1n = np.array([2,3,4,5])\n",
    "\n",
    "print(\"########### BACK-SUBSTITUTION ###########\")\n",
    "print(\"Testing Back Substitution: \",solutions)\n",
    "print(\"Correct result: \",np.linalg.solve(U1n,z1n))\n",
    "print(\"#########################################\\n\")\n"
   ]
  },
  {
   "cell_type": "code",
   "execution_count": null,
   "metadata": {},
   "outputs": [],
   "source": []
  }
 ],
 "metadata": {
  "kernelspec": {
   "display_name": "Python 3",
   "language": "python",
   "name": "python3"
  },
  "language_info": {
   "codemirror_mode": {
    "name": "ipython",
    "version": 3
   },
   "file_extension": ".py",
   "mimetype": "text/x-python",
   "name": "python",
   "nbconvert_exporter": "python",
   "pygments_lexer": "ipython3",
   "version": "3.8.3"
  }
 },
 "nbformat": 4,
 "nbformat_minor": 4
}
