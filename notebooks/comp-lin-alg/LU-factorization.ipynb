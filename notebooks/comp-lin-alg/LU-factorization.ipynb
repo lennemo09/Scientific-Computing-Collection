{
 "cells": [
  {
   "cell_type": "code",
   "execution_count": 1,
   "metadata": {},
   "outputs": [],
   "source": [
    "# Set-up\n",
    "import numpy as np\n",
    "import scipy.linalg as sp"
   ]
  },
  {
   "cell_type": "code",
   "execution_count": 2,
   "metadata": {},
   "outputs": [],
   "source": [
    "%%capture\n",
    "%run forward-elimination.ipynb\n",
    "%run backward-substitution.ipynb"
   ]
  },
  {
   "cell_type": "markdown",
   "metadata": {},
   "source": [
    "### LU factorization"
   ]
  },
  {
   "cell_type": "code",
   "execution_count": 3,
   "metadata": {},
   "outputs": [],
   "source": [
    "def LU(A,b):\n",
    "    U, z, Ms = forward_elim(A,b)\n",
    "    L = np.identity(len(A))\n",
    "    for Mi in Ms:\n",
    "        L = L @ np.linalg.inv(Mi)\n",
    "    return L, U, b"
   ]
  },
  {
   "cell_type": "markdown",
   "metadata": {},
   "source": [
    "### Solver using $$Ax = LUx = b$$"
   ]
  },
  {
   "cell_type": "code",
   "execution_count": 5,
   "metadata": {},
   "outputs": [],
   "source": [
    "def solve(A,b):\n",
    "    L, U, b = LU(A,b)\n",
    "    # LUx = b -> Ly = b\n",
    "    _, y, _ = forward_elim(L,b)\n",
    "    # Ux = y\n",
    "    x = back_sub(U,y)\n",
    "    return x"
   ]
  },
  {
   "cell_type": "code",
   "execution_count": 6,
   "metadata": {},
   "outputs": [
    {
     "name": "stdout",
     "output_type": "stream",
     "text": [
      "Result\n",
      "[[1. 0. 0.]\n",
      " [1. 1. 0.]\n",
      " [2. 3. 1.]]\n",
      "[[ 1.  3. -2.]\n",
      " [ 0.  2.  5.]\n",
      " [ 0.  0. -1.]]\n",
      "[array([-1.]), array([3.]), array([-1.])]\n",
      "[array([1.]), array([2.]), array([-1.])]\n"
     ]
    }
   ],
   "source": [
    "A1 = np.array([[1,2,2],[4,4,2],[4,6,4]])\n",
    "b1 = np.array([[3],[6],[10]])\n",
    "\n",
    "A2 = np.array([[1,3,-2],[1,5,3],[2,12,10]])\n",
    "b2 = np.array([[1],[2],[3]])\n",
    "\n",
    "A3 = np.array([[2,1,-1],[3,-1,2],[1,-1,-1]])\n",
    "b3 = np.array([[5],[-1],[0]])\n",
    "\n",
    "L1, U1, b = LU(A2,b2)\n",
    "print(\"Result\")\n",
    "print(L1)\n",
    "print(U1)\n",
    "\n",
    "print(solve(A1,b1))\n",
    "print(solve(A3,b3))"
   ]
  },
  {
   "cell_type": "code",
   "execution_count": null,
   "metadata": {},
   "outputs": [],
   "source": []
  }
 ],
 "metadata": {
  "kernelspec": {
   "display_name": "Python 3",
   "language": "python",
   "name": "python3"
  },
  "language_info": {
   "codemirror_mode": {
    "name": "ipython",
    "version": 3
   },
   "file_extension": ".py",
   "mimetype": "text/x-python",
   "name": "python",
   "nbconvert_exporter": "python",
   "pygments_lexer": "ipython3",
   "version": "3.8.3"
  }
 },
 "nbformat": 4,
 "nbformat_minor": 4
}
