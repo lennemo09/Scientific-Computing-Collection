{
 "cells": [
  {
   "cell_type": "code",
   "execution_count": 4,
   "metadata": {},
   "outputs": [],
   "source": [
    "# Set-up\n",
    "import numpy as np\n",
    "import scipy.linalg as sp"
   ]
  },
  {
   "cell_type": "code",
   "execution_count": 12,
   "metadata": {},
   "outputs": [],
   "source": [
    "%%capture\n",
    "%run forward-elimination.ipynb\n",
    "%run backward-substitution.ipynb"
   ]
  },
  {
   "cell_type": "code",
   "execution_count": 13,
   "metadata": {},
   "outputs": [],
   "source": [
    "def gauss_elim(A,b):\n",
    "    U, z, Ms = forward_elim(A,b)\n",
    "    back_subbed = back_sub(U,z)\n",
    "    return back_subbed"
   ]
  },
  {
   "cell_type": "code",
   "execution_count": 14,
   "metadata": {},
   "outputs": [
    {
     "name": "stdout",
     "output_type": "stream",
     "text": [
      "########## GAUSSIAN ELIMINATION #########\n",
      "Testing Gaussian Elimination using the previous 2 functions:\n",
      "Input matrix: \n",
      "[[ 1.  2.  2.]\n",
      " [ 0. -4. -6.]\n",
      " [ 0.  0. -1.]]\n",
      "[[ 3.]\n",
      " [-6.]\n",
      " [ 1.]]\n",
      "Output solution: \n",
      "-1.0\n",
      "#########################################\n",
      "\n"
     ]
    }
   ],
   "source": [
    "print(\"########## GAUSSIAN ELIMINATION #########\")\n",
    "print(\"Testing Gaussian Elimination using the previous 2 functions:\")\n",
    "print(\"Input matrix: \")\n",
    "for row in A1,b1:\n",
    "    print(row)\n",
    "print(\"Output solution: \")\n",
    "i=1\n",
    "print(gauss_elim(A1,b1)[0][0])\n",
    "\n",
    "print(\"#########################################\\n\")"
   ]
  },
  {
   "cell_type": "code",
   "execution_count": null,
   "metadata": {},
   "outputs": [],
   "source": []
  }
 ],
 "metadata": {
  "kernelspec": {
   "display_name": "Python 3",
   "language": "python",
   "name": "python3"
  },
  "language_info": {
   "codemirror_mode": {
    "name": "ipython",
    "version": 3
   },
   "file_extension": ".py",
   "mimetype": "text/x-python",
   "name": "python",
   "nbconvert_exporter": "python",
   "pygments_lexer": "ipython3",
   "version": "3.8.3"
  }
 },
 "nbformat": 4,
 "nbformat_minor": 4
}
