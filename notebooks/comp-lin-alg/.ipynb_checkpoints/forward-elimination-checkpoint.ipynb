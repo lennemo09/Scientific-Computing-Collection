{
 "cells": [
  {
   "cell_type": "code",
   "execution_count": 1,
   "metadata": {},
   "outputs": [],
   "source": [
    "# Set-up\n",
    "import numpy as np\n",
    "import scipy.linalg as sp"
   ]
  },
  {
   "cell_type": "code",
   "execution_count": 2,
   "metadata": {},
   "outputs": [],
   "source": [
    "def forward_elim(A,b):\n",
    "    A_copy = np.copy(A)\n",
    "    b_copy = np.copy(b)\n",
    "    M = np.identity(len(A))\n",
    "    Ms = [] # This stores the elimination matrices in order [M_1, M_2, M_3], useful for L.\n",
    "    for k in range(len(A[0])):\n",
    "        M_k = np.copy(M)\n",
    "        pivot = A_copy[k,k]\n",
    "        for i in range(k+1, len(A)):\n",
    "            M_k[i, k] = -(A_copy[i,k]/pivot)\n",
    "        Ms.append(M_k)\n",
    "        A_copy = M_k @ A_copy\n",
    "        b_copy = M_k @ b_copy\n",
    "    return A_copy, b_copy, Ms"
   ]
  },
  {
   "cell_type": "code",
   "execution_count": 3,
   "metadata": {},
   "outputs": [
    {
     "name": "stdout",
     "output_type": "stream",
     "text": [
      "########## FORWARD ELIMINATION ##########\n",
      "Input matrix: \n",
      "[[1 2 2]\n",
      " [4 4 2]\n",
      " [4 6 4]]\n",
      "[[ 3]\n",
      " [ 6]\n",
      " [10]]\n",
      "Testing Forward Elimination: \n",
      "[[ 1.  2.  2.]\n",
      " [ 0. -4. -6.]\n",
      " [ 0.  0. -1.]]\n",
      "[[ 3.]\n",
      " [-6.]\n",
      " [ 1.]]\n",
      "#########################################\n",
      "\n"
     ]
    }
   ],
   "source": [
    "A1 = np.array([[1,2,2],[4,4,2],[4,6,4]])\n",
    "b1 = np.array([[3],[6],[10]])\n",
    "print(\"########## FORWARD ELIMINATION ##########\")\n",
    "print(\"Input matrix: \")\n",
    "for row in A1,b1:\n",
    "    print(row)\n",
    "print(\"Testing Forward Elimination: \")\n",
    "A1, b1, Ms = forward_elim(A1, b1)\n",
    "for row in (A1,b1):\n",
    "    print(row)\n",
    "print(\"#########################################\\n\")"
   ]
  },
  {
   "cell_type": "code",
   "execution_count": null,
   "metadata": {},
   "outputs": [],
   "source": []
  },
  {
   "cell_type": "code",
   "execution_count": null,
   "metadata": {},
   "outputs": [],
   "source": []
  }
 ],
 "metadata": {
  "kernelspec": {
   "display_name": "Python 3",
   "language": "python",
   "name": "python3"
  },
  "language_info": {
   "codemirror_mode": {
    "name": "ipython",
    "version": 3
   },
   "file_extension": ".py",
   "mimetype": "text/x-python",
   "name": "python",
   "nbconvert_exporter": "python",
   "pygments_lexer": "ipython3",
   "version": "3.8.3"
  }
 },
 "nbformat": 4,
 "nbformat_minor": 4
}
