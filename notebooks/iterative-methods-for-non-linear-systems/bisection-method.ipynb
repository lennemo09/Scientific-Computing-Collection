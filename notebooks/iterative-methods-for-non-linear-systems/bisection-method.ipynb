{
 "cells": [
  {
   "cell_type": "code",
   "execution_count": 1,
   "metadata": {},
   "outputs": [],
   "source": [
    "## Set-up\n",
    "import numpy as np\n",
    "from scipy.misc import derivative as derive\n",
    "import matplotlib.pyplot as plt"
   ]
  },
  {
   "cell_type": "code",
   "execution_count": 2,
   "metadata": {},
   "outputs": [],
   "source": [
    "def bisection(func, a, b, err_threshold, max_iter=1000):\n",
    "    assert np.sign(func(a)) != np.sign(func(b))\n",
    "    it = 1\n",
    "    while it <= max_iter:\n",
    "        c = (a+b)/2\n",
    "        if abs(b-a) < err_threshold:\n",
    "            return c\n",
    "        it += 1\n",
    "        if np.sign(func(c)) == np.sign(func(a)):\n",
    "            a = c\n",
    "        else:\n",
    "            b = c\n",
    "    raise ValueError(\"Max number of iterations achieved.\")\n"
   ]
  },
  {
   "cell_type": "code",
   "execution_count": 3,
   "metadata": {},
   "outputs": [
    {
     "name": "stdout",
     "output_type": "stream",
     "text": [
      "x^3 - 2x - 5 = 0; x =  2.094554901123047\n",
      "x - e^(-x) = 0; x =  0.5671424865722656\n",
      "xsin(x) - 1 = 0; x =  -2.772602081298828\n",
      "x^3 - 3x^2 + 3x - 1 = 0; x =  0.9999961853027344\n"
     ]
    }
   ],
   "source": [
    "thresh = 1e-5\n",
    "def f1(x):\n",
    "    return x**3 - 2*x - 5\n",
    "def f2(x):\n",
    "    return x - np.e**(-x)\n",
    "def f3(x):\n",
    "    return x*np.sin(x) - 1\n",
    "def f4(x):\n",
    "    return x**3 - 3*(x**2) + 3*x - 1\n",
    "\n",
    "print(\"x^3 - 2x - 5 = 0; x = \", bisection(f1, 1, 3, thresh))\n",
    "print(\"x - e^(-x) = 0; x = \", bisection(f2, -4, 4, thresh))\n",
    "print(\"xsin(x) - 1 = 0; x = \", bisection(f3, -4, -2, thresh))\n",
    "print(\"x^3 - 3x^2 + 3x - 1 = 0; x = \", bisection(f4, 0, 2, thresh))"
   ]
  },
  {
   "cell_type": "code",
   "execution_count": null,
   "metadata": {},
   "outputs": [],
   "source": []
  }
 ],
 "metadata": {
  "kernelspec": {
   "display_name": "Python 3",
   "language": "python",
   "name": "python3"
  },
  "language_info": {
   "codemirror_mode": {
    "name": "ipython",
    "version": 3
   },
   "file_extension": ".py",
   "mimetype": "text/x-python",
   "name": "python",
   "nbconvert_exporter": "python",
   "pygments_lexer": "ipython3",
   "version": "3.8.3"
  }
 },
 "nbformat": 4,
 "nbformat_minor": 4
}
