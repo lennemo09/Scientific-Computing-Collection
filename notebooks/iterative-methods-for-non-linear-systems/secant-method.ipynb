{
 "cells": [
  {
   "cell_type": "code",
   "execution_count": 6,
   "metadata": {},
   "outputs": [],
   "source": [
    "## Set-up\n",
    "import numpy as np\n",
    "from scipy.misc import derivative as derive\n",
    "import matplotlib.pyplot as plt"
   ]
  },
  {
   "cell_type": "code",
   "execution_count": 7,
   "metadata": {},
   "outputs": [],
   "source": [
    "def find_root_newton(f,d, x0, thresh=1e-9, max_iter=1000):\n",
    "    xi = x0\n",
    "    i = 0\n",
    "    while i < max_iter:\n",
    "        xi_next = xi - f(xi)/d(xi)\n",
    "        diff = abs(xi_next-xi)\n",
    "        i += 1\n",
    "        if diff < thresh:\n",
    "            return xi\n",
    "        else:\n",
    "            xi = xi_next\n",
    "    print(\"Max iterations.\")\n",
    "    return None"
   ]
  },
  {
   "cell_type": "code",
   "execution_count": 8,
   "metadata": {},
   "outputs": [],
   "source": [
    "def f1(x):\n",
    "    return x**3 - 2*x - 5\n",
    "def d1(x):\n",
    "    return derive(f1,x)\n",
    "\n",
    "def f2(x):\n",
    "    return x - np.e**(-x)\n",
    "def d2(x):\n",
    "    return derive(f2,x)\n",
    "\n",
    "def f3(x):\n",
    "    return x*np.sin(x) - 1\n",
    "def d3(x):\n",
    "    return derive(f3,x)\n",
    "\n",
    "def f4(x):\n",
    "    return x**3 - 3*(x**2) + 3*x - 1\n",
    "def d4(x):\n",
    "    return derive(f4,x)"
   ]
  },
  {
   "cell_type": "code",
   "execution_count": 9,
   "metadata": {},
   "outputs": [
    {
     "name": "stdout",
     "output_type": "stream",
     "text": [
      "\n",
      "Newton's f1: x =  2.0945514816571884\n",
      "\n",
      "Newton's f2: x =  0.5671432900175228\n",
      "\n",
      "Newton's f3: x =  1.1141571404269923\n",
      "\n",
      "Newton's f4: x =  1\n"
     ]
    }
   ],
   "source": [
    "print(\"\\nNewton's f1: x = \",find_root_newton(f1,d1,1))\n",
    "print(\"\\nNewton's f2: x = \",find_root_newton(f2,d2,1))\n",
    "print(\"\\nNewton's f3: x = \",find_root_newton(f3,d3,1))\n",
    "print(\"\\nNewton's f4: x = \",find_root_newton(f4,d4,1))"
   ]
  },
  {
   "cell_type": "code",
   "execution_count": null,
   "metadata": {},
   "outputs": [],
   "source": []
  }
 ],
 "metadata": {
  "kernelspec": {
   "display_name": "Python 3",
   "language": "python",
   "name": "python3"
  },
  "language_info": {
   "codemirror_mode": {
    "name": "ipython",
    "version": 3
   },
   "file_extension": ".py",
   "mimetype": "text/x-python",
   "name": "python",
   "nbconvert_exporter": "python",
   "pygments_lexer": "ipython3",
   "version": "3.8.3"
  }
 },
 "nbformat": 4,
 "nbformat_minor": 4
}
